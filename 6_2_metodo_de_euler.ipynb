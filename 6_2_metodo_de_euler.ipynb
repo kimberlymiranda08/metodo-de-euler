{
  "nbformat": 4,
  "nbformat_minor": 0,
  "metadata": {
    "colab": {
      "provenance": []
    },
    "kernelspec": {
      "name": "python3",
      "display_name": "Python 3"
    },
    "language_info": {
      "name": "python"
    }
  },
  "cells": [
    {
      "cell_type": "code",
      "execution_count": null,
      "metadata": {
        "id": "W2BdoW6Q6EE3"
      },
      "outputs": [],
      "source": [
        "#   Codigo que implementa el metodo de Euler\n",
        "#   para resolver una ecuacion diferencial\n",
        "#\n",
        "#\n",
        "#           Autor:\n",
        "#   kimberly milagros miranda rosel\n",
        "#\n",
        "#           correo:\n",
        "#   kimberlymiranda0808085@gmail.com\n",
        "#\n",
        "#   Version 2.0 : 12/05/2025\n",
        "#\n",
        "\n",
        "import numpy as np\n",
        "import matplotlib.pyplot as plt\n",
        "import pandas as pd\n",
        "\n",
        "# Definición de la EDO: dy/dx = f(x, y)\n",
        "def f(x, y):\n",
        "    return x + y\n",
        "\n",
        "# Condiciones iniciales\n",
        "x0 = 0\n",
        "y0 = 1\n",
        "xf = 2\n",
        "n = 10\n",
        "\n",
        "# Paso\n",
        "h = (xf - x0) / n\n",
        "\n",
        "# Inicialización de listas para almacenar resultados\n",
        "x_vals = [x0]\n",
        "y_vals = [y0]\n",
        "\n",
        "# Método de Euler\n",
        "x = x0\n",
        "y = y0\n",
        "for i in range(n):\n",
        "    y = y + h * f(x, y)\n",
        "    x = x + h\n",
        "    x_vals.append(x)\n",
        "    y_vals.append(y)\n",
        "\n",
        "# Guardar resultados en archivo CSV\n",
        "data = {\n",
        "    \"x\": x_vals,\n",
        "    \"y_aproximada\": y_vals\n",
        "}\n",
        "df = pd.DataFrame(data)\n",
        "csv_path = \"euler_resultados.csv\"\n",
        "df.to_csv(csv_path, index=False)\n",
        "\n",
        "# Graficar la solución aproximada\n",
        "plt.figure(figsize=(8, 5))\n",
        "plt.plot(x_vals, y_vals, 'o-', label='Solución aproximada (Euler)', color='blue')\n",
        "plt.title('Método de Euler')\n",
        "plt.xlabel('x')\n",
        "plt.ylabel('y')\n",
        "plt.grid(True)\n",
        "plt.legend()\n",
        "image_path = \"euler_solucion.png\"\n",
        "plt.savefig(image_path)\n",
        "plt.show()"
      ]
    }
  ]
}